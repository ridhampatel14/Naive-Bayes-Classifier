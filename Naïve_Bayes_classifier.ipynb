{
  "nbformat": 4,
  "nbformat_minor": 0,
  "metadata": {
    "colab": {
      "name": "Naïve Bayes classifier.ipynb",
      "provenance": [],
      "collapsed_sections": [],
      "include_colab_link": true
    },
    "kernelspec": {
      "name": "python3",
      "display_name": "Python 3"
    },
    "language_info": {
      "name": "python"
    }
  },
  "cells": [
    {
      "cell_type": "markdown",
      "metadata": {
        "id": "view-in-github",
        "colab_type": "text"
      },
      "source": [
        "<a href=\"https://colab.research.google.com/github/ridhampatel14/ML_projects/blob/main/Na%C3%AFve_Bayes_classifier.ipynb\" target=\"_parent\"><img src=\"https://colab.research.google.com/assets/colab-badge.svg\" alt=\"Open In Colab\"/></a>"
      ]
    },
    {
      "cell_type": "markdown",
      "metadata": {
        "id": "eQw-cEDHs36j"
      },
      "source": [
        "**Naive Bayes classifier**"
      ]
    },
    {
      "cell_type": "code",
      "metadata": {
        "id": "Ny_x1lXg6jow"
      },
      "source": [
        "import pandas as pd\n",
        "import matplotlib.pyplot as plt"
      ],
      "execution_count": 3,
      "outputs": []
    },
    {
      "cell_type": "code",
      "metadata": {
        "id": "A0fnKiDg8EUv",
        "colab": {
          "base_uri": "https://localhost:8080/",
          "height": 276
        },
        "outputId": "b1839c44-405f-470e-aa20-aebcaf473bb2"
      },
      "source": [
        "df = pd.read_csv(\"titanic.csv\")\n",
        "df.head()"
      ],
      "execution_count": 4,
      "outputs": [
        {
          "output_type": "execute_result",
          "data": {
            "text/html": [
              "<div>\n",
              "<style scoped>\n",
              "    .dataframe tbody tr th:only-of-type {\n",
              "        vertical-align: middle;\n",
              "    }\n",
              "\n",
              "    .dataframe tbody tr th {\n",
              "        vertical-align: top;\n",
              "    }\n",
              "\n",
              "    .dataframe thead th {\n",
              "        text-align: right;\n",
              "    }\n",
              "</style>\n",
              "<table border=\"1\" class=\"dataframe\">\n",
              "  <thead>\n",
              "    <tr style=\"text-align: right;\">\n",
              "      <th></th>\n",
              "      <th>PassengerId</th>\n",
              "      <th>Name</th>\n",
              "      <th>Pclass</th>\n",
              "      <th>Sex</th>\n",
              "      <th>Age</th>\n",
              "      <th>SibSp</th>\n",
              "      <th>Parch</th>\n",
              "      <th>Ticket</th>\n",
              "      <th>Fare</th>\n",
              "      <th>Cabin</th>\n",
              "      <th>Embarked</th>\n",
              "      <th>Survived</th>\n",
              "    </tr>\n",
              "  </thead>\n",
              "  <tbody>\n",
              "    <tr>\n",
              "      <th>0</th>\n",
              "      <td>1</td>\n",
              "      <td>Braund, Mr. Owen Harris</td>\n",
              "      <td>3</td>\n",
              "      <td>male</td>\n",
              "      <td>22.0</td>\n",
              "      <td>1</td>\n",
              "      <td>0</td>\n",
              "      <td>A/5 21171</td>\n",
              "      <td>7.2500</td>\n",
              "      <td>NaN</td>\n",
              "      <td>S</td>\n",
              "      <td>0</td>\n",
              "    </tr>\n",
              "    <tr>\n",
              "      <th>1</th>\n",
              "      <td>2</td>\n",
              "      <td>Cumings, Mrs. John Bradley (Florence Briggs Th...</td>\n",
              "      <td>1</td>\n",
              "      <td>female</td>\n",
              "      <td>38.0</td>\n",
              "      <td>1</td>\n",
              "      <td>0</td>\n",
              "      <td>PC 17599</td>\n",
              "      <td>71.2833</td>\n",
              "      <td>C85</td>\n",
              "      <td>C</td>\n",
              "      <td>1</td>\n",
              "    </tr>\n",
              "    <tr>\n",
              "      <th>2</th>\n",
              "      <td>3</td>\n",
              "      <td>Heikkinen, Miss. Laina</td>\n",
              "      <td>3</td>\n",
              "      <td>female</td>\n",
              "      <td>26.0</td>\n",
              "      <td>0</td>\n",
              "      <td>0</td>\n",
              "      <td>STON/O2. 3101282</td>\n",
              "      <td>7.9250</td>\n",
              "      <td>NaN</td>\n",
              "      <td>S</td>\n",
              "      <td>1</td>\n",
              "    </tr>\n",
              "    <tr>\n",
              "      <th>3</th>\n",
              "      <td>4</td>\n",
              "      <td>Futrelle, Mrs. Jacques Heath (Lily May Peel)</td>\n",
              "      <td>1</td>\n",
              "      <td>female</td>\n",
              "      <td>35.0</td>\n",
              "      <td>1</td>\n",
              "      <td>0</td>\n",
              "      <td>113803</td>\n",
              "      <td>53.1000</td>\n",
              "      <td>C123</td>\n",
              "      <td>S</td>\n",
              "      <td>1</td>\n",
              "    </tr>\n",
              "    <tr>\n",
              "      <th>4</th>\n",
              "      <td>5</td>\n",
              "      <td>Allen, Mr. William Henry</td>\n",
              "      <td>3</td>\n",
              "      <td>male</td>\n",
              "      <td>35.0</td>\n",
              "      <td>0</td>\n",
              "      <td>0</td>\n",
              "      <td>373450</td>\n",
              "      <td>8.0500</td>\n",
              "      <td>NaN</td>\n",
              "      <td>S</td>\n",
              "      <td>0</td>\n",
              "    </tr>\n",
              "  </tbody>\n",
              "</table>\n",
              "</div>"
            ],
            "text/plain": [
              "   PassengerId  ... Survived\n",
              "0            1  ...        0\n",
              "1            2  ...        1\n",
              "2            3  ...        1\n",
              "3            4  ...        1\n",
              "4            5  ...        0\n",
              "\n",
              "[5 rows x 12 columns]"
            ]
          },
          "metadata": {},
          "execution_count": 4
        }
      ]
    },
    {
      "cell_type": "code",
      "metadata": {
        "id": "Xp-qRhMb8EWv",
        "colab": {
          "base_uri": "https://localhost:8080/",
          "height": 206
        },
        "outputId": "a1b97e00-a7ab-42b1-abd3-00a82cad96c3"
      },
      "source": [
        "df.drop(['PassengerId','Name','SibSp','Parch','Ticket','Cabin','Embarked'],axis='columns',inplace=True)\n",
        "df.head()"
      ],
      "execution_count": 5,
      "outputs": [
        {
          "output_type": "execute_result",
          "data": {
            "text/html": [
              "<div>\n",
              "<style scoped>\n",
              "    .dataframe tbody tr th:only-of-type {\n",
              "        vertical-align: middle;\n",
              "    }\n",
              "\n",
              "    .dataframe tbody tr th {\n",
              "        vertical-align: top;\n",
              "    }\n",
              "\n",
              "    .dataframe thead th {\n",
              "        text-align: right;\n",
              "    }\n",
              "</style>\n",
              "<table border=\"1\" class=\"dataframe\">\n",
              "  <thead>\n",
              "    <tr style=\"text-align: right;\">\n",
              "      <th></th>\n",
              "      <th>Pclass</th>\n",
              "      <th>Sex</th>\n",
              "      <th>Age</th>\n",
              "      <th>Fare</th>\n",
              "      <th>Survived</th>\n",
              "    </tr>\n",
              "  </thead>\n",
              "  <tbody>\n",
              "    <tr>\n",
              "      <th>0</th>\n",
              "      <td>3</td>\n",
              "      <td>male</td>\n",
              "      <td>22.0</td>\n",
              "      <td>7.2500</td>\n",
              "      <td>0</td>\n",
              "    </tr>\n",
              "    <tr>\n",
              "      <th>1</th>\n",
              "      <td>1</td>\n",
              "      <td>female</td>\n",
              "      <td>38.0</td>\n",
              "      <td>71.2833</td>\n",
              "      <td>1</td>\n",
              "    </tr>\n",
              "    <tr>\n",
              "      <th>2</th>\n",
              "      <td>3</td>\n",
              "      <td>female</td>\n",
              "      <td>26.0</td>\n",
              "      <td>7.9250</td>\n",
              "      <td>1</td>\n",
              "    </tr>\n",
              "    <tr>\n",
              "      <th>3</th>\n",
              "      <td>1</td>\n",
              "      <td>female</td>\n",
              "      <td>35.0</td>\n",
              "      <td>53.1000</td>\n",
              "      <td>1</td>\n",
              "    </tr>\n",
              "    <tr>\n",
              "      <th>4</th>\n",
              "      <td>3</td>\n",
              "      <td>male</td>\n",
              "      <td>35.0</td>\n",
              "      <td>8.0500</td>\n",
              "      <td>0</td>\n",
              "    </tr>\n",
              "  </tbody>\n",
              "</table>\n",
              "</div>"
            ],
            "text/plain": [
              "   Pclass     Sex   Age     Fare  Survived\n",
              "0       3    male  22.0   7.2500         0\n",
              "1       1  female  38.0  71.2833         1\n",
              "2       3  female  26.0   7.9250         1\n",
              "3       1  female  35.0  53.1000         1\n",
              "4       3    male  35.0   8.0500         0"
            ]
          },
          "metadata": {},
          "execution_count": 5
        }
      ]
    },
    {
      "cell_type": "code",
      "metadata": {
        "colab": {
          "base_uri": "https://localhost:8080/"
        },
        "id": "jEfionNghEze",
        "outputId": "54526465-60cc-412a-85e5-a2c816d5c250"
      },
      "source": [
        "df.shape"
      ],
      "execution_count": 6,
      "outputs": [
        {
          "output_type": "execute_result",
          "data": {
            "text/plain": [
              "(891, 5)"
            ]
          },
          "metadata": {},
          "execution_count": 6
        }
      ]
    },
    {
      "cell_type": "code",
      "metadata": {
        "colab": {
          "base_uri": "https://localhost:8080/",
          "height": 282
        },
        "id": "h5bWrdbohEtO",
        "outputId": "b11165cd-0d3b-4860-f94c-e1f92e2a3da9"
      },
      "source": [
        "df.Age.hist(bins=20)"
      ],
      "execution_count": 7,
      "outputs": [
        {
          "output_type": "execute_result",
          "data": {
            "text/plain": [
              "<matplotlib.axes._subplots.AxesSubplot at 0x7f40a289dd10>"
            ]
          },
          "metadata": {},
          "execution_count": 7
        },
        {
          "output_type": "display_data",
          "data": {
            "image/png": "[encoded data removed]",
            "text/plain": [
              "<Figure size 432x288 with 1 Axes>"
            ]
          },
          "metadata": {
            "needs_background": "light"
          }
        }
      ]
    },
    {
      "cell_type": "code",
      "metadata": {
        "colab": {
          "base_uri": "https://localhost:8080/",
          "height": 282
        },
        "id": "gjI3p0pYhJIC",
        "outputId": "1b83f0ac-a45d-4a5c-bf37-61211b031b36"
      },
      "source": [
        "df.Sex.value_counts().plot(kind='barh')"
      ],
      "execution_count": 8,
      "outputs": [
        {
          "output_type": "execute_result",
          "data": {
            "text/plain": [
              "<matplotlib.axes._subplots.AxesSubplot at 0x7f40a27b1b90>"
            ]
          },
          "metadata": {},
          "execution_count": 8
        },
        {
          "output_type": "display_data",
          "data": {
            "image/png": "[encoded data removed]",
            "text/plain": [
              "<Figure size 432x288 with 1 Axes>"
            ]
          },
          "metadata": {
            "needs_background": "light"
          }
        }
      ]
    },
    {
      "cell_type": "code",
      "metadata": {
        "id": "IWqbzP-Q8Eah"
      },
      "source": [
        "inputs = df.drop('Survived',axis='columns')\n",
        "target = df.Survived"
      ],
      "execution_count": 9,
      "outputs": []
    },
    {
      "cell_type": "code",
      "metadata": {
        "id": "RFl5KJx08EgT",
        "colab": {
          "base_uri": "https://localhost:8080/",
          "height": 143
        },
        "outputId": "d2dd3301-50fb-46f0-b608-9971dccfa031"
      },
      "source": [
        "dummies = pd.get_dummies(inputs.Sex)\n",
        "dummies.head(3)"
      ],
      "execution_count": 10,
      "outputs": [
        {
          "output_type": "execute_result",
          "data": {
            "text/html": [
              "<div>\n",
              "<style scoped>\n",
              "    .dataframe tbody tr th:only-of-type {\n",
              "        vertical-align: middle;\n",
              "    }\n",
              "\n",
              "    .dataframe tbody tr th {\n",
              "        vertical-align: top;\n",
              "    }\n",
              "\n",
              "    .dataframe thead th {\n",
              "        text-align: right;\n",
              "    }\n",
              "</style>\n",
              "<table border=\"1\" class=\"dataframe\">\n",
              "  <thead>\n",
              "    <tr style=\"text-align: right;\">\n",
              "      <th></th>\n",
              "      <th>female</th>\n",
              "      <th>male</th>\n",
              "    </tr>\n",
              "  </thead>\n",
              "  <tbody>\n",
              "    <tr>\n",
              "      <th>0</th>\n",
              "      <td>0</td>\n",
              "      <td>1</td>\n",
              "    </tr>\n",
              "    <tr>\n",
              "      <th>1</th>\n",
              "      <td>1</td>\n",
              "      <td>0</td>\n",
              "    </tr>\n",
              "    <tr>\n",
              "      <th>2</th>\n",
              "      <td>1</td>\n",
              "      <td>0</td>\n",
              "    </tr>\n",
              "  </tbody>\n",
              "</table>\n",
              "</div>"
            ],
            "text/plain": [
              "   female  male\n",
              "0       0     1\n",
              "1       1     0\n",
              "2       1     0"
            ]
          },
          "metadata": {},
          "execution_count": 10
        }
      ]
    },
    {
      "cell_type": "code",
      "metadata": {
        "id": "JuBNq8gt8Ept",
        "colab": {
          "base_uri": "https://localhost:8080/",
          "height": 143
        },
        "outputId": "1a84b8ff-25a7-4608-8a45-a343ad8237a1"
      },
      "source": [
        "inputs = pd.concat([inputs,dummies],axis='columns')\n",
        "inputs.head(3)"
      ],
      "execution_count": 11,
      "outputs": [
        {
          "output_type": "execute_result",
          "data": {
            "text/html": [
              "<div>\n",
              "<style scoped>\n",
              "    .dataframe tbody tr th:only-of-type {\n",
              "        vertical-align: middle;\n",
              "    }\n",
              "\n",
              "    .dataframe tbody tr th {\n",
              "        vertical-align: top;\n",
              "    }\n",
              "\n",
              "    .dataframe thead th {\n",
              "        text-align: right;\n",
              "    }\n",
              "</style>\n",
              "<table border=\"1\" class=\"dataframe\">\n",
              "  <thead>\n",
              "    <tr style=\"text-align: right;\">\n",
              "      <th></th>\n",
              "      <th>Pclass</th>\n",
              "      <th>Sex</th>\n",
              "      <th>Age</th>\n",
              "      <th>Fare</th>\n",
              "      <th>female</th>\n",
              "      <th>male</th>\n",
              "    </tr>\n",
              "  </thead>\n",
              "  <tbody>\n",
              "    <tr>\n",
              "      <th>0</th>\n",
              "      <td>3</td>\n",
              "      <td>male</td>\n",
              "      <td>22.0</td>\n",
              "      <td>7.2500</td>\n",
              "      <td>0</td>\n",
              "      <td>1</td>\n",
              "    </tr>\n",
              "    <tr>\n",
              "      <th>1</th>\n",
              "      <td>1</td>\n",
              "      <td>female</td>\n",
              "      <td>38.0</td>\n",
              "      <td>71.2833</td>\n",
              "      <td>1</td>\n",
              "      <td>0</td>\n",
              "    </tr>\n",
              "    <tr>\n",
              "      <th>2</th>\n",
              "      <td>3</td>\n",
              "      <td>female</td>\n",
              "      <td>26.0</td>\n",
              "      <td>7.9250</td>\n",
              "      <td>1</td>\n",
              "      <td>0</td>\n",
              "    </tr>\n",
              "  </tbody>\n",
              "</table>\n",
              "</div>"
            ],
            "text/plain": [
              "   Pclass     Sex   Age     Fare  female  male\n",
              "0       3    male  22.0   7.2500       0     1\n",
              "1       1  female  38.0  71.2833       1     0\n",
              "2       3  female  26.0   7.9250       1     0"
            ]
          },
          "metadata": {},
          "execution_count": 11
        }
      ]
    },
    {
      "cell_type": "code",
      "metadata": {
        "id": "_-ueBkXf8Ewl",
        "colab": {
          "base_uri": "https://localhost:8080/",
          "height": 143
        },
        "outputId": "3758d06b-0269-4fc7-89d1-7742cc53809a"
      },
      "source": [
        "inputs.drop(['Sex','male'],axis='columns',inplace=True)\n",
        "inputs.head(3)"
      ],
      "execution_count": 12,
      "outputs": [
        {
          "output_type": "execute_result",
          "data": {
            "text/html": [
              "<div>\n",
              "<style scoped>\n",
              "    .dataframe tbody tr th:only-of-type {\n",
              "        vertical-align: middle;\n",
              "    }\n",
              "\n",
              "    .dataframe tbody tr th {\n",
              "        vertical-align: top;\n",
              "    }\n",
              "\n",
              "    .dataframe thead th {\n",
              "        text-align: right;\n",
              "    }\n",
              "</style>\n",
              "<table border=\"1\" class=\"dataframe\">\n",
              "  <thead>\n",
              "    <tr style=\"text-align: right;\">\n",
              "      <th></th>\n",
              "      <th>Pclass</th>\n",
              "      <th>Age</th>\n",
              "      <th>Fare</th>\n",
              "      <th>female</th>\n",
              "    </tr>\n",
              "  </thead>\n",
              "  <tbody>\n",
              "    <tr>\n",
              "      <th>0</th>\n",
              "      <td>3</td>\n",
              "      <td>22.0</td>\n",
              "      <td>7.2500</td>\n",
              "      <td>0</td>\n",
              "    </tr>\n",
              "    <tr>\n",
              "      <th>1</th>\n",
              "      <td>1</td>\n",
              "      <td>38.0</td>\n",
              "      <td>71.2833</td>\n",
              "      <td>1</td>\n",
              "    </tr>\n",
              "    <tr>\n",
              "      <th>2</th>\n",
              "      <td>3</td>\n",
              "      <td>26.0</td>\n",
              "      <td>7.9250</td>\n",
              "      <td>1</td>\n",
              "    </tr>\n",
              "  </tbody>\n",
              "</table>\n",
              "</div>"
            ],
            "text/plain": [
              "   Pclass   Age     Fare  female\n",
              "0       3  22.0   7.2500       0\n",
              "1       1  38.0  71.2833       1\n",
              "2       3  26.0   7.9250       1"
            ]
          },
          "metadata": {},
          "execution_count": 12
        }
      ]
    },
    {
      "cell_type": "code",
      "metadata": {
        "colab": {
          "base_uri": "https://localhost:8080/"
        },
        "id": "pOJXqHc3lO41",
        "outputId": "662b2f51-ba55-4c3e-bc6c-7669f5182882"
      },
      "source": [
        "inputs.columns[inputs.isna().any()]"
      ],
      "execution_count": 13,
      "outputs": [
        {
          "output_type": "execute_result",
          "data": {
            "text/plain": [
              "Index(['Age'], dtype='object')"
            ]
          },
          "metadata": {},
          "execution_count": 13
        }
      ]
    },
    {
      "cell_type": "code",
      "metadata": {
        "colab": {
          "base_uri": "https://localhost:8080/"
        },
        "id": "CSCQI6bZlO53",
        "outputId": "6ce21aff-32ce-4bf0-bdf0-c308e36138e0"
      },
      "source": [
        "inputs.Age[:10]"
      ],
      "execution_count": 14,
      "outputs": [
        {
          "output_type": "execute_result",
          "data": {
            "text/plain": [
              "0    22.0\n",
              "1    38.0\n",
              "2    26.0\n",
              "3    35.0\n",
              "4    35.0\n",
              "5     NaN\n",
              "6    54.0\n",
              "7     2.0\n",
              "8    27.0\n",
              "9    14.0\n",
              "Name: Age, dtype: float64"
            ]
          },
          "metadata": {},
          "execution_count": 14
        }
      ]
    },
    {
      "cell_type": "code",
      "metadata": {
        "colab": {
          "base_uri": "https://localhost:8080/",
          "height": 206
        },
        "id": "kh_EknpHlO-g",
        "outputId": "1a5fa299-b7d1-4d75-ed34-0d5974e8bae3"
      },
      "source": [
        "inputs.Age = inputs.Age.fillna(inputs.Age.mean())\n",
        "inputs.head()"
      ],
      "execution_count": 15,
      "outputs": [
        {
          "output_type": "execute_result",
          "data": {
            "text/html": [
              "<div>\n",
              "<style scoped>\n",
              "    .dataframe tbody tr th:only-of-type {\n",
              "        vertical-align: middle;\n",
              "    }\n",
              "\n",
              "    .dataframe tbody tr th {\n",
              "        vertical-align: top;\n",
              "    }\n",
              "\n",
              "    .dataframe thead th {\n",
              "        text-align: right;\n",
              "    }\n",
              "</style>\n",
              "<table border=\"1\" class=\"dataframe\">\n",
              "  <thead>\n",
              "    <tr style=\"text-align: right;\">\n",
              "      <th></th>\n",
              "      <th>Pclass</th>\n",
              "      <th>Age</th>\n",
              "      <th>Fare</th>\n",
              "      <th>female</th>\n",
              "    </tr>\n",
              "  </thead>\n",
              "  <tbody>\n",
              "    <tr>\n",
              "      <th>0</th>\n",
              "      <td>3</td>\n",
              "      <td>22.0</td>\n",
              "      <td>7.2500</td>\n",
              "      <td>0</td>\n",
              "    </tr>\n",
              "    <tr>\n",
              "      <th>1</th>\n",
              "      <td>1</td>\n",
              "      <td>38.0</td>\n",
              "      <td>71.2833</td>\n",
              "      <td>1</td>\n",
              "    </tr>\n",
              "    <tr>\n",
              "      <th>2</th>\n",
              "      <td>3</td>\n",
              "      <td>26.0</td>\n",
              "      <td>7.9250</td>\n",
              "      <td>1</td>\n",
              "    </tr>\n",
              "    <tr>\n",
              "      <th>3</th>\n",
              "      <td>1</td>\n",
              "      <td>35.0</td>\n",
              "      <td>53.1000</td>\n",
              "      <td>1</td>\n",
              "    </tr>\n",
              "    <tr>\n",
              "      <th>4</th>\n",
              "      <td>3</td>\n",
              "      <td>35.0</td>\n",
              "      <td>8.0500</td>\n",
              "      <td>0</td>\n",
              "    </tr>\n",
              "  </tbody>\n",
              "</table>\n",
              "</div>"
            ],
            "text/plain": [
              "   Pclass   Age     Fare  female\n",
              "0       3  22.0   7.2500       0\n",
              "1       1  38.0  71.2833       1\n",
              "2       3  26.0   7.9250       1\n",
              "3       1  35.0  53.1000       1\n",
              "4       3  35.0   8.0500       0"
            ]
          },
          "metadata": {},
          "execution_count": 15
        }
      ]
    },
    {
      "cell_type": "code",
      "metadata": {
        "id": "3WGh-6TClPAF"
      },
      "source": [
        "from sklearn.model_selection import train_test_split\n",
        "X_train, X_test, y_train, y_test = train_test_split(inputs,target,test_size=0.2)"
      ],
      "execution_count": 16,
      "outputs": []
    },
    {
      "cell_type": "code",
      "metadata": {
        "id": "bxv42XqWlPEr"
      },
      "source": [
        "from sklearn.naive_bayes import GaussianNB\n",
        "model = GaussianNB()"
      ],
      "execution_count": 17,
      "outputs": []
    },
    {
      "cell_type": "code",
      "metadata": {
        "colab": {
          "base_uri": "https://localhost:8080/"
        },
        "id": "SF3ZjkrDlPKU",
        "outputId": "fe1cb0df-b193-40ed-8f3c-90fcbe89359e"
      },
      "source": [
        "model.fit(X_train,y_train)"
      ],
      "execution_count": 18,
      "outputs": [
        {
          "output_type": "execute_result",
          "data": {
            "text/plain": [
              "GaussianNB()"
            ]
          },
          "metadata": {},
          "execution_count": 18
        }
      ]
    },
    {
      "cell_type": "code",
      "metadata": {
        "colab": {
          "base_uri": "https://localhost:8080/"
        },
        "id": "d41T1sOllPL4",
        "outputId": "47e0898c-4029-4d65-a17e-ff328c31534e"
      },
      "source": [
        "model.score(X_test,y_test)"
      ],
      "execution_count": 19,
      "outputs": [
        {
          "output_type": "execute_result",
          "data": {
            "text/plain": [
              "0.7932960893854749"
            ]
          },
          "metadata": {},
          "execution_count": 19
        }
      ]
    },
    {
      "cell_type": "code",
      "metadata": {
        "colab": {
          "base_uri": "https://localhost:8080/",
          "height": 424
        },
        "id": "b-mRo9hjlkv2",
        "outputId": "feaddaff-3d75-4ad4-8611-fc9d1d25d512"
      },
      "source": [
        "#X_test[0:10]\n",
        "X_test"
      ],
      "execution_count": 20,
      "outputs": [
        {
          "output_type": "execute_result",
          "data": {
            "text/html": [
              "<div>\n",
              "<style scoped>\n",
              "    .dataframe tbody tr th:only-of-type {\n",
              "        vertical-align: middle;\n",
              "    }\n",
              "\n",
              "    .dataframe tbody tr th {\n",
              "        vertical-align: top;\n",
              "    }\n",
              "\n",
              "    .dataframe thead th {\n",
              "        text-align: right;\n",
              "    }\n",
              "</style>\n",
              "<table border=\"1\" class=\"dataframe\">\n",
              "  <thead>\n",
              "    <tr style=\"text-align: right;\">\n",
              "      <th></th>\n",
              "      <th>Pclass</th>\n",
              "      <th>Age</th>\n",
              "      <th>Fare</th>\n",
              "      <th>female</th>\n",
              "    </tr>\n",
              "  </thead>\n",
              "  <tbody>\n",
              "    <tr>\n",
              "      <th>868</th>\n",
              "      <td>3</td>\n",
              "      <td>29.699118</td>\n",
              "      <td>9.5000</td>\n",
              "      <td>0</td>\n",
              "    </tr>\n",
              "    <tr>\n",
              "      <th>382</th>\n",
              "      <td>3</td>\n",
              "      <td>32.000000</td>\n",
              "      <td>7.9250</td>\n",
              "      <td>0</td>\n",
              "    </tr>\n",
              "    <tr>\n",
              "      <th>296</th>\n",
              "      <td>3</td>\n",
              "      <td>23.500000</td>\n",
              "      <td>7.2292</td>\n",
              "      <td>0</td>\n",
              "    </tr>\n",
              "    <tr>\n",
              "      <th>439</th>\n",
              "      <td>2</td>\n",
              "      <td>31.000000</td>\n",
              "      <td>10.5000</td>\n",
              "      <td>0</td>\n",
              "    </tr>\n",
              "    <tr>\n",
              "      <th>846</th>\n",
              "      <td>3</td>\n",
              "      <td>29.699118</td>\n",
              "      <td>69.5500</td>\n",
              "      <td>0</td>\n",
              "    </tr>\n",
              "    <tr>\n",
              "      <th>...</th>\n",
              "      <td>...</td>\n",
              "      <td>...</td>\n",
              "      <td>...</td>\n",
              "      <td>...</td>\n",
              "    </tr>\n",
              "    <tr>\n",
              "      <th>80</th>\n",
              "      <td>3</td>\n",
              "      <td>22.000000</td>\n",
              "      <td>9.0000</td>\n",
              "      <td>0</td>\n",
              "    </tr>\n",
              "    <tr>\n",
              "      <th>311</th>\n",
              "      <td>1</td>\n",
              "      <td>18.000000</td>\n",
              "      <td>262.3750</td>\n",
              "      <td>1</td>\n",
              "    </tr>\n",
              "    <tr>\n",
              "      <th>428</th>\n",
              "      <td>3</td>\n",
              "      <td>29.699118</td>\n",
              "      <td>7.7500</td>\n",
              "      <td>0</td>\n",
              "    </tr>\n",
              "    <tr>\n",
              "      <th>222</th>\n",
              "      <td>3</td>\n",
              "      <td>51.000000</td>\n",
              "      <td>8.0500</td>\n",
              "      <td>0</td>\n",
              "    </tr>\n",
              "    <tr>\n",
              "      <th>394</th>\n",
              "      <td>3</td>\n",
              "      <td>24.000000</td>\n",
              "      <td>16.7000</td>\n",
              "      <td>1</td>\n",
              "    </tr>\n",
              "  </tbody>\n",
              "</table>\n",
              "<p>179 rows × 4 columns</p>\n",
              "</div>"
            ],
            "text/plain": [
              "     Pclass        Age      Fare  female\n",
              "868       3  29.699118    9.5000       0\n",
              "382       3  32.000000    7.9250       0\n",
              "296       3  23.500000    7.2292       0\n",
              "439       2  31.000000   10.5000       0\n",
              "846       3  29.699118   69.5500       0\n",
              "..      ...        ...       ...     ...\n",
              "80        3  22.000000    9.0000       0\n",
              "311       1  18.000000  262.3750       1\n",
              "428       3  29.699118    7.7500       0\n",
              "222       3  51.000000    8.0500       0\n",
              "394       3  24.000000   16.7000       1\n",
              "\n",
              "[179 rows x 4 columns]"
            ]
          },
          "metadata": {},
          "execution_count": 20
        }
      ]
    },
    {
      "cell_type": "code",
      "metadata": {
        "colab": {
          "base_uri": "https://localhost:8080/"
        },
        "id": "bjcXNm2Slkxa",
        "outputId": "6a36f4b9-6486-4f02-8dfa-17bd86472c89"
      },
      "source": [
        "y_test"
      ],
      "execution_count": 21,
      "outputs": [
        {
          "output_type": "execute_result",
          "data": {
            "text/plain": [
              "868    0\n",
              "382    0\n",
              "296    0\n",
              "439    0\n",
              "846    0\n",
              "      ..\n",
              "80     0\n",
              "311    1\n",
              "428    0\n",
              "222    0\n",
              "394    1\n",
              "Name: Survived, Length: 179, dtype: int64"
            ]
          },
          "metadata": {},
          "execution_count": 21
        }
      ]
    },
    {
      "cell_type": "code",
      "metadata": {
        "colab": {
          "base_uri": "https://localhost:8080/"
        },
        "id": "QzPg4cTNlk1d",
        "outputId": "52eba706-5d38-4320-cbcf-887259748f0c"
      },
      "source": [
        "y_pred=model.predict(X_test)\n",
        "y_pred"
      ],
      "execution_count": 22,
      "outputs": [
        {
          "output_type": "execute_result",
          "data": {
            "text/plain": [
              "array([0, 0, 0, 0, 0, 1, 0, 1, 0, 0, 0, 0, 0, 1, 0, 0, 0, 1, 1, 1, 1, 1,\n",
              "       0, 0, 1, 0, 0, 1, 1, 1, 0, 1, 1, 0, 1, 0, 1, 1, 0, 1, 0, 0, 0, 1,\n",
              "       0, 0, 0, 0, 0, 0, 1, 0, 0, 1, 0, 0, 1, 0, 0, 0, 1, 0, 0, 1, 1, 0,\n",
              "       1, 1, 1, 1, 0, 1, 1, 1, 1, 0, 1, 1, 0, 1, 0, 0, 1, 0, 1, 0, 0, 1,\n",
              "       1, 0, 1, 0, 0, 0, 1, 0, 0, 0, 0, 1, 0, 0, 1, 1, 0, 1, 1, 1, 0, 0,\n",
              "       1, 1, 0, 0, 0, 1, 0, 1, 0, 0, 1, 0, 0, 0, 1, 0, 0, 0, 1, 1, 1, 1,\n",
              "       0, 1, 0, 0, 1, 0, 1, 0, 0, 0, 0, 0, 0, 1, 1, 0, 1, 1, 1, 0, 0, 0,\n",
              "       0, 0, 0, 1, 1, 1, 1, 0, 0, 0, 0, 1, 1, 0, 0, 0, 1, 1, 0, 0, 0, 1,\n",
              "       0, 0, 1])"
            ]
          },
          "metadata": {},
          "execution_count": 22
        }
      ]
    },
    {
      "cell_type": "code",
      "metadata": {
        "id": "VnktBm1Ulk8X",
        "colab": {
          "base_uri": "https://localhost:8080/"
        },
        "outputId": "891d2654-a631-4585-8bd8-0a9870a0cf0d"
      },
      "source": [
        "model.predict_proba(X_test[:10])"
      ],
      "execution_count": 23,
      "outputs": [
        {
          "output_type": "execute_result",
          "data": {
            "text/plain": [
              "array([[0.96240053, 0.03759947],\n",
              "       [0.96334298, 0.03665702],\n",
              "       [0.95759371, 0.04240629],\n",
              "       [0.92496376, 0.07503624],\n",
              "       [0.90775572, 0.09224428],\n",
              "       [0.2262918 , 0.7737082 ],\n",
              "       [0.95501846, 0.04498154],\n",
              "       [0.38171411, 0.61828589],\n",
              "       [0.9622679 , 0.0377321 ],\n",
              "       [0.95494604, 0.04505396]])"
            ]
          },
          "metadata": {},
          "execution_count": 23
        }
      ]
    },
    {
      "cell_type": "code",
      "metadata": {
        "colab": {
          "base_uri": "https://localhost:8080/"
        },
        "id": "EGUF5bToiOJQ",
        "outputId": "78588fb7-4df5-4043-a1eb-3a5b277798bc"
      },
      "source": [
        "print(model.predict(X_test)[:10])\n",
        "print(y_train[:10])"
      ],
      "execution_count": 24,
      "outputs": [
        {
          "output_type": "stream",
          "name": "stdout",
          "text": [
            "[0 0 0 0 0 1 0 1 0 0]\n",
            "42     0\n",
            "170    0\n",
            "782    0\n",
            "127    1\n",
            "503    0\n",
            "661    0\n",
            "798    0\n",
            "654    0\n",
            "259    1\n",
            "809    1\n",
            "Name: Survived, dtype: int64\n"
          ]
        }
      ]
    },
    {
      "cell_type": "code",
      "metadata": {
        "colab": {
          "base_uri": "https://localhost:8080/"
        },
        "id": "2L4kNpMjl33L",
        "outputId": "920cf517-e378-4744-ded3-ca9a7f310170"
      },
      "source": [
        "from sklearn.metrics import precision_score\n",
        "#(true value , predicted value)\n",
        "precision_score(y_test,model.predict(X_test))"
      ],
      "execution_count": 25,
      "outputs": [
        {
          "output_type": "execute_result",
          "data": {
            "text/plain": [
              "0.7894736842105263"
            ]
          },
          "metadata": {},
          "execution_count": 25
        }
      ]
    },
    {
      "cell_type": "code",
      "metadata": {
        "colab": {
          "base_uri": "https://localhost:8080/"
        },
        "id": "7ZW3_29Kl34v",
        "outputId": "1fb3e021-17ef-4474-dcb4-32dd9939fe44"
      },
      "source": [
        "from sklearn.metrics import recall_score\n",
        "recall_score(y_test,model.predict(X_test))"
      ],
      "execution_count": 26,
      "outputs": [
        {
          "output_type": "execute_result",
          "data": {
            "text/plain": [
              "0.7407407407407407"
            ]
          },
          "metadata": {},
          "execution_count": 26
        }
      ]
    },
    {
      "cell_type": "code",
      "metadata": {
        "colab": {
          "base_uri": "https://localhost:8080/"
        },
        "id": "-zjSm7d3l4D2",
        "outputId": "cead6992-ae6d-417f-a45e-cda28c0a6b47"
      },
      "source": [
        "from sklearn.metrics import f1_score\n",
        "f1_score(y_test,model.predict(X_test))"
      ],
      "execution_count": 27,
      "outputs": [
        {
          "output_type": "execute_result",
          "data": {
            "text/plain": [
              "0.7643312101910827"
            ]
          },
          "metadata": {},
          "execution_count": 27
        }
      ]
    },
    {
      "cell_type": "code",
      "metadata": {
        "colab": {
          "base_uri": "https://localhost:8080/"
        },
        "id": "vfyQUOYrpqbG",
        "outputId": "b105b7f6-ec42-49b2-b6c5-49a682b4c64e"
      },
      "source": [
        "from sklearn import metrics\n",
        "metrics.confusion_matrix(y_test,model.predict(X_test))"
      ],
      "execution_count": 28,
      "outputs": [
        {
          "output_type": "execute_result",
          "data": {
            "text/plain": [
              "array([[82, 16],\n",
              "       [21, 60]])"
            ]
          },
          "metadata": {},
          "execution_count": 28
        }
      ]
    },
    {
      "cell_type": "code",
      "metadata": {
        "id": "l3sw1y6dqDq1"
      },
      "source": [
        "std_arr=[]\n",
        "var_arr=[]\n",
        "score_arr=[]\n",
        "precision_score_arr=[]\n",
        "recall_score_arr=[]\n",
        "f1_score_arr=[]\n",
        "error_arr=[]\n",
        "for i in range(20):\n",
        "  X_train, X_test, y_train, y_test = train_test_split(inputs,target,test_size=0.2,random_state = None)\n",
        "  model.fit(X_train,y_train)\n",
        "  y_predicted=model.predict(X_test)\n",
        "  std_arr.append(y_predicted.std())\n",
        "  var_arr.append(y_predicted.var())\n",
        "  score_arr.append(model.score(X_test,y_test))\n",
        "  precision_score_arr.append(precision_score(y_test,y_predicted))\n",
        "  recall_score_arr.append(recall_score(y_test,y_predicted))\n",
        "  f1_score_arr.append(f1_score(y_test,y_predicted))\n",
        "  error_arr.append(1-(model.score(X_test,y_test)))\n",
        "\n"
      ],
      "execution_count": 29,
      "outputs": []
    },
    {
      "cell_type": "code",
      "metadata": {
        "colab": {
          "base_uri": "https://localhost:8080/",
          "height": 677
        },
        "id": "ShBBu9vPOyhK",
        "outputId": "c75e9b6b-3464-46b4-a51f-dd3358e06c4d"
      },
      "source": [
        "analyze_df=pd.DataFrame(list(zip(std_arr,var_arr,score_arr,precision_score_arr,recall_score_arr,f1_score_arr,error_arr)),columns=['std','var','accuracy','precision_score','recall_score','f1_score','error'])\n",
        "analyze_df"
      ],
      "execution_count": 30,
      "outputs": [
        {
          "output_type": "execute_result",
          "data": {
            "text/html": [
              "<div>\n",
              "<style scoped>\n",
              "    .dataframe tbody tr th:only-of-type {\n",
              "        vertical-align: middle;\n",
              "    }\n",
              "\n",
              "    .dataframe tbody tr th {\n",
              "        vertical-align: top;\n",
              "    }\n",
              "\n",
              "    .dataframe thead th {\n",
              "        text-align: right;\n",
              "    }\n",
              "</style>\n",
              "<table border=\"1\" class=\"dataframe\">\n",
              "  <thead>\n",
              "    <tr style=\"text-align: right;\">\n",
              "      <th></th>\n",
              "      <th>std</th>\n",
              "      <th>var</th>\n",
              "      <th>accuracy</th>\n",
              "      <th>precision_score</th>\n",
              "      <th>recall_score</th>\n",
              "      <th>f1_score</th>\n",
              "      <th>error</th>\n",
              "    </tr>\n",
              "  </thead>\n",
              "  <tbody>\n",
              "    <tr>\n",
              "      <th>0</th>\n",
              "      <td>0.473972</td>\n",
              "      <td>0.224650</td>\n",
              "      <td>0.782123</td>\n",
              "      <td>0.639344</td>\n",
              "      <td>0.696429</td>\n",
              "      <td>0.666667</td>\n",
              "      <td>0.217877</td>\n",
              "    </tr>\n",
              "    <tr>\n",
              "      <th>1</th>\n",
              "      <td>0.487988</td>\n",
              "      <td>0.238132</td>\n",
              "      <td>0.754190</td>\n",
              "      <td>0.700000</td>\n",
              "      <td>0.680556</td>\n",
              "      <td>0.690141</td>\n",
              "      <td>0.245810</td>\n",
              "    </tr>\n",
              "    <tr>\n",
              "      <th>2</th>\n",
              "      <td>0.490349</td>\n",
              "      <td>0.240442</td>\n",
              "      <td>0.793296</td>\n",
              "      <td>0.722222</td>\n",
              "      <td>0.753623</td>\n",
              "      <td>0.737589</td>\n",
              "      <td>0.206704</td>\n",
              "    </tr>\n",
              "    <tr>\n",
              "      <th>3</th>\n",
              "      <td>0.475812</td>\n",
              "      <td>0.226397</td>\n",
              "      <td>0.765363</td>\n",
              "      <td>0.661290</td>\n",
              "      <td>0.661290</td>\n",
              "      <td>0.661290</td>\n",
              "      <td>0.234637</td>\n",
              "    </tr>\n",
              "    <tr>\n",
              "      <th>4</th>\n",
              "      <td>0.479276</td>\n",
              "      <td>0.229706</td>\n",
              "      <td>0.837989</td>\n",
              "      <td>0.765625</td>\n",
              "      <td>0.777778</td>\n",
              "      <td>0.771654</td>\n",
              "      <td>0.162011</td>\n",
              "    </tr>\n",
              "    <tr>\n",
              "      <th>5</th>\n",
              "      <td>0.486707</td>\n",
              "      <td>0.236884</td>\n",
              "      <td>0.754190</td>\n",
              "      <td>0.753623</td>\n",
              "      <td>0.658228</td>\n",
              "      <td>0.702703</td>\n",
              "      <td>0.245810</td>\n",
              "    </tr>\n",
              "    <tr>\n",
              "      <th>6</th>\n",
              "      <td>0.495855</td>\n",
              "      <td>0.245872</td>\n",
              "      <td>0.748603</td>\n",
              "      <td>0.628205</td>\n",
              "      <td>0.753846</td>\n",
              "      <td>0.685315</td>\n",
              "      <td>0.251397</td>\n",
              "    </tr>\n",
              "    <tr>\n",
              "      <th>7</th>\n",
              "      <td>0.480901</td>\n",
              "      <td>0.231266</td>\n",
              "      <td>0.770950</td>\n",
              "      <td>0.676923</td>\n",
              "      <td>0.687500</td>\n",
              "      <td>0.682171</td>\n",
              "      <td>0.229050</td>\n",
              "    </tr>\n",
              "    <tr>\n",
              "      <th>8</th>\n",
              "      <td>0.499055</td>\n",
              "      <td>0.249056</td>\n",
              "      <td>0.832402</td>\n",
              "      <td>0.761905</td>\n",
              "      <td>0.864865</td>\n",
              "      <td>0.810127</td>\n",
              "      <td>0.167598</td>\n",
              "    </tr>\n",
              "    <tr>\n",
              "      <th>9</th>\n",
              "      <td>0.494279</td>\n",
              "      <td>0.244312</td>\n",
              "      <td>0.748603</td>\n",
              "      <td>0.697368</td>\n",
              "      <td>0.706667</td>\n",
              "      <td>0.701987</td>\n",
              "      <td>0.251397</td>\n",
              "    </tr>\n",
              "    <tr>\n",
              "      <th>10</th>\n",
              "      <td>0.486707</td>\n",
              "      <td>0.236884</td>\n",
              "      <td>0.748603</td>\n",
              "      <td>0.666667</td>\n",
              "      <td>0.676471</td>\n",
              "      <td>0.671533</td>\n",
              "      <td>0.251397</td>\n",
              "    </tr>\n",
              "    <tr>\n",
              "      <th>11</th>\n",
              "      <td>0.486707</td>\n",
              "      <td>0.236884</td>\n",
              "      <td>0.787709</td>\n",
              "      <td>0.652174</td>\n",
              "      <td>0.762712</td>\n",
              "      <td>0.703125</td>\n",
              "      <td>0.212291</td>\n",
              "    </tr>\n",
              "    <tr>\n",
              "      <th>12</th>\n",
              "      <td>0.495099</td>\n",
              "      <td>0.245123</td>\n",
              "      <td>0.770950</td>\n",
              "      <td>0.714286</td>\n",
              "      <td>0.743243</td>\n",
              "      <td>0.728477</td>\n",
              "      <td>0.229050</td>\n",
              "    </tr>\n",
              "    <tr>\n",
              "      <th>13</th>\n",
              "      <td>0.487988</td>\n",
              "      <td>0.238132</td>\n",
              "      <td>0.770950</td>\n",
              "      <td>0.628571</td>\n",
              "      <td>0.745763</td>\n",
              "      <td>0.682171</td>\n",
              "      <td>0.229050</td>\n",
              "    </tr>\n",
              "    <tr>\n",
              "      <th>14</th>\n",
              "      <td>0.490349</td>\n",
              "      <td>0.240442</td>\n",
              "      <td>0.737430</td>\n",
              "      <td>0.625000</td>\n",
              "      <td>0.692308</td>\n",
              "      <td>0.656934</td>\n",
              "      <td>0.262570</td>\n",
              "    </tr>\n",
              "    <tr>\n",
              "      <th>15</th>\n",
              "      <td>0.475812</td>\n",
              "      <td>0.226397</td>\n",
              "      <td>0.798883</td>\n",
              "      <td>0.790323</td>\n",
              "      <td>0.680556</td>\n",
              "      <td>0.731343</td>\n",
              "      <td>0.201117</td>\n",
              "    </tr>\n",
              "    <tr>\n",
              "      <th>16</th>\n",
              "      <td>0.487988</td>\n",
              "      <td>0.238132</td>\n",
              "      <td>0.798883</td>\n",
              "      <td>0.757143</td>\n",
              "      <td>0.736111</td>\n",
              "      <td>0.746479</td>\n",
              "      <td>0.201117</td>\n",
              "    </tr>\n",
              "    <tr>\n",
              "      <th>17</th>\n",
              "      <td>0.486707</td>\n",
              "      <td>0.236884</td>\n",
              "      <td>0.765363</td>\n",
              "      <td>0.623188</td>\n",
              "      <td>0.728814</td>\n",
              "      <td>0.671875</td>\n",
              "      <td>0.234637</td>\n",
              "    </tr>\n",
              "    <tr>\n",
              "      <th>18</th>\n",
              "      <td>0.495099</td>\n",
              "      <td>0.245123</td>\n",
              "      <td>0.748603</td>\n",
              "      <td>0.714286</td>\n",
              "      <td>0.705128</td>\n",
              "      <td>0.709677</td>\n",
              "      <td>0.251397</td>\n",
              "    </tr>\n",
              "    <tr>\n",
              "      <th>19</th>\n",
              "      <td>0.483942</td>\n",
              "      <td>0.234200</td>\n",
              "      <td>0.804469</td>\n",
              "      <td>0.761194</td>\n",
              "      <td>0.728571</td>\n",
              "      <td>0.744526</td>\n",
              "      <td>0.195531</td>\n",
              "    </tr>\n",
              "  </tbody>\n",
              "</table>\n",
              "</div>"
            ],
            "text/plain": [
              "         std       var  accuracy  ...  recall_score  f1_score     error\n",
              "0   0.473972  0.224650  0.782123  ...      0.696429  0.666667  0.217877\n",
              "1   0.487988  0.238132  0.754190  ...      0.680556  0.690141  0.245810\n",
              "2   0.490349  0.240442  0.793296  ...      0.753623  0.737589  0.206704\n",
              "3   0.475812  0.226397  0.765363  ...      0.661290  0.661290  0.234637\n",
              "4   0.479276  0.229706  0.837989  ...      0.777778  0.771654  0.162011\n",
              "5   0.486707  0.236884  0.754190  ...      0.658228  0.702703  0.245810\n",
              "6   0.495855  0.245872  0.748603  ...      0.753846  0.685315  0.251397\n",
              "7   0.480901  0.231266  0.770950  ...      0.687500  0.682171  0.229050\n",
              "8   0.499055  0.249056  0.832402  ...      0.864865  0.810127  0.167598\n",
              "9   0.494279  0.244312  0.748603  ...      0.706667  0.701987  0.251397\n",
              "10  0.486707  0.236884  0.748603  ...      0.676471  0.671533  0.251397\n",
              "11  0.486707  0.236884  0.787709  ...      0.762712  0.703125  0.212291\n",
              "12  0.495099  0.245123  0.770950  ...      0.743243  0.728477  0.229050\n",
              "13  0.487988  0.238132  0.770950  ...      0.745763  0.682171  0.229050\n",
              "14  0.490349  0.240442  0.737430  ...      0.692308  0.656934  0.262570\n",
              "15  0.475812  0.226397  0.798883  ...      0.680556  0.731343  0.201117\n",
              "16  0.487988  0.238132  0.798883  ...      0.736111  0.746479  0.201117\n",
              "17  0.486707  0.236884  0.765363  ...      0.728814  0.671875  0.234637\n",
              "18  0.495099  0.245123  0.748603  ...      0.705128  0.709677  0.251397\n",
              "19  0.483942  0.234200  0.804469  ...      0.728571  0.744526  0.195531\n",
              "\n",
              "[20 rows x 7 columns]"
            ]
          },
          "metadata": {},
          "execution_count": 30
        }
      ]
    },
    {
      "cell_type": "code",
      "metadata": {
        "colab": {
          "base_uri": "https://localhost:8080/",
          "height": 300
        },
        "id": "bPB0DSJr9Ty7",
        "outputId": "4299c8bf-e39a-4f77-d38a-027b4983e449"
      },
      "source": [
        "an_df=analyze_df.describe()\n",
        "an_df"
      ],
      "execution_count": 31,
      "outputs": [
        {
          "output_type": "execute_result",
          "data": {
            "text/html": [
              "<div>\n",
              "<style scoped>\n",
              "    .dataframe tbody tr th:only-of-type {\n",
              "        vertical-align: middle;\n",
              "    }\n",
              "\n",
              "    .dataframe tbody tr th {\n",
              "        vertical-align: top;\n",
              "    }\n",
              "\n",
              "    .dataframe thead th {\n",
              "        text-align: right;\n",
              "    }\n",
              "</style>\n",
              "<table border=\"1\" class=\"dataframe\">\n",
              "  <thead>\n",
              "    <tr style=\"text-align: right;\">\n",
              "      <th></th>\n",
              "      <th>std</th>\n",
              "      <th>var</th>\n",
              "      <th>accuracy</th>\n",
              "      <th>precision_score</th>\n",
              "      <th>recall_score</th>\n",
              "      <th>f1_score</th>\n",
              "      <th>error</th>\n",
              "    </tr>\n",
              "  </thead>\n",
              "  <tbody>\n",
              "    <tr>\n",
              "      <th>count</th>\n",
              "      <td>20.000000</td>\n",
              "      <td>20.000000</td>\n",
              "      <td>20.000000</td>\n",
              "      <td>20.000000</td>\n",
              "      <td>20.000000</td>\n",
              "      <td>20.000000</td>\n",
              "      <td>20.000000</td>\n",
              "    </tr>\n",
              "    <tr>\n",
              "      <th>mean</th>\n",
              "      <td>0.487030</td>\n",
              "      <td>0.237246</td>\n",
              "      <td>0.775978</td>\n",
              "      <td>0.696967</td>\n",
              "      <td>0.722023</td>\n",
              "      <td>0.707789</td>\n",
              "      <td>0.224022</td>\n",
              "    </tr>\n",
              "    <tr>\n",
              "      <th>std</th>\n",
              "      <td>0.007108</td>\n",
              "      <td>0.006910</td>\n",
              "      <td>0.028191</td>\n",
              "      <td>0.055154</td>\n",
              "      <td>0.048669</td>\n",
              "      <td>0.040083</td>\n",
              "      <td>0.028191</td>\n",
              "    </tr>\n",
              "    <tr>\n",
              "      <th>min</th>\n",
              "      <td>0.473972</td>\n",
              "      <td>0.224650</td>\n",
              "      <td>0.737430</td>\n",
              "      <td>0.623188</td>\n",
              "      <td>0.658228</td>\n",
              "      <td>0.656934</td>\n",
              "      <td>0.162011</td>\n",
              "    </tr>\n",
              "    <tr>\n",
              "      <th>25%</th>\n",
              "      <td>0.483182</td>\n",
              "      <td>0.233466</td>\n",
              "      <td>0.752793</td>\n",
              "      <td>0.648967</td>\n",
              "      <td>0.685764</td>\n",
              "      <td>0.679597</td>\n",
              "      <td>0.205307</td>\n",
              "    </tr>\n",
              "    <tr>\n",
              "      <th>50%</th>\n",
              "      <td>0.487348</td>\n",
              "      <td>0.237508</td>\n",
              "      <td>0.770950</td>\n",
              "      <td>0.698684</td>\n",
              "      <td>0.717619</td>\n",
              "      <td>0.702345</td>\n",
              "      <td>0.229050</td>\n",
              "    </tr>\n",
              "    <tr>\n",
              "      <th>75%</th>\n",
              "      <td>0.491331</td>\n",
              "      <td>0.241409</td>\n",
              "      <td>0.794693</td>\n",
              "      <td>0.754503</td>\n",
              "      <td>0.747728</td>\n",
              "      <td>0.732905</td>\n",
              "      <td>0.247207</td>\n",
              "    </tr>\n",
              "    <tr>\n",
              "      <th>max</th>\n",
              "      <td>0.499055</td>\n",
              "      <td>0.249056</td>\n",
              "      <td>0.837989</td>\n",
              "      <td>0.790323</td>\n",
              "      <td>0.864865</td>\n",
              "      <td>0.810127</td>\n",
              "      <td>0.262570</td>\n",
              "    </tr>\n",
              "  </tbody>\n",
              "</table>\n",
              "</div>"
            ],
            "text/plain": [
              "             std        var   accuracy  ...  recall_score   f1_score      error\n",
              "count  20.000000  20.000000  20.000000  ...     20.000000  20.000000  20.000000\n",
              "mean    0.487030   0.237246   0.775978  ...      0.722023   0.707789   0.224022\n",
              "std     0.007108   0.006910   0.028191  ...      0.048669   0.040083   0.028191\n",
              "min     0.473972   0.224650   0.737430  ...      0.658228   0.656934   0.162011\n",
              "25%     0.483182   0.233466   0.752793  ...      0.685764   0.679597   0.205307\n",
              "50%     0.487348   0.237508   0.770950  ...      0.717619   0.702345   0.229050\n",
              "75%     0.491331   0.241409   0.794693  ...      0.747728   0.732905   0.247207\n",
              "max     0.499055   0.249056   0.837989  ...      0.864865   0.810127   0.262570\n",
              "\n",
              "[8 rows x 7 columns]"
            ]
          },
          "metadata": {},
          "execution_count": 31
        }
      ]
    },
    {
      "cell_type": "code",
      "metadata": {
        "colab": {
          "base_uri": "https://localhost:8080/",
          "height": 771
        },
        "id": "YbNpGqeA7QFv",
        "outputId": "60069a0a-f90e-4156-c84f-07a135e123ed"
      },
      "source": [
        "mean=an_df.loc['mean']\n",
        "max=an_df.loc['max']\n",
        "min=an_df.loc['min']\n",
        "analyze_df.loc['mean']=mean\n",
        "analyze_df.loc['max']=max\n",
        "analyze_df.loc['min']=min\n",
        "analyze_df"
      ],
      "execution_count": 32,
      "outputs": [
        {
          "output_type": "execute_result",
          "data": {
            "text/html": [
              "<div>\n",
              "<style scoped>\n",
              "    .dataframe tbody tr th:only-of-type {\n",
              "        vertical-align: middle;\n",
              "    }\n",
              "\n",
              "    .dataframe tbody tr th {\n",
              "        vertical-align: top;\n",
              "    }\n",
              "\n",
              "    .dataframe thead th {\n",
              "        text-align: right;\n",
              "    }\n",
              "</style>\n",
              "<table border=\"1\" class=\"dataframe\">\n",
              "  <thead>\n",
              "    <tr style=\"text-align: right;\">\n",
              "      <th></th>\n",
              "      <th>std</th>\n",
              "      <th>var</th>\n",
              "      <th>accuracy</th>\n",
              "      <th>precision_score</th>\n",
              "      <th>recall_score</th>\n",
              "      <th>f1_score</th>\n",
              "      <th>error</th>\n",
              "    </tr>\n",
              "  </thead>\n",
              "  <tbody>\n",
              "    <tr>\n",
              "      <th>0</th>\n",
              "      <td>0.473972</td>\n",
              "      <td>0.224650</td>\n",
              "      <td>0.782123</td>\n",
              "      <td>0.639344</td>\n",
              "      <td>0.696429</td>\n",
              "      <td>0.666667</td>\n",
              "      <td>0.217877</td>\n",
              "    </tr>\n",
              "    <tr>\n",
              "      <th>1</th>\n",
              "      <td>0.487988</td>\n",
              "      <td>0.238132</td>\n",
              "      <td>0.754190</td>\n",
              "      <td>0.700000</td>\n",
              "      <td>0.680556</td>\n",
              "      <td>0.690141</td>\n",
              "      <td>0.245810</td>\n",
              "    </tr>\n",
              "    <tr>\n",
              "      <th>2</th>\n",
              "      <td>0.490349</td>\n",
              "      <td>0.240442</td>\n",
              "      <td>0.793296</td>\n",
              "      <td>0.722222</td>\n",
              "      <td>0.753623</td>\n",
              "      <td>0.737589</td>\n",
              "      <td>0.206704</td>\n",
              "    </tr>\n",
              "    <tr>\n",
              "      <th>3</th>\n",
              "      <td>0.475812</td>\n",
              "      <td>0.226397</td>\n",
              "      <td>0.765363</td>\n",
              "      <td>0.661290</td>\n",
              "      <td>0.661290</td>\n",
              "      <td>0.661290</td>\n",
              "      <td>0.234637</td>\n",
              "    </tr>\n",
              "    <tr>\n",
              "      <th>4</th>\n",
              "      <td>0.479276</td>\n",
              "      <td>0.229706</td>\n",
              "      <td>0.837989</td>\n",
              "      <td>0.765625</td>\n",
              "      <td>0.777778</td>\n",
              "      <td>0.771654</td>\n",
              "      <td>0.162011</td>\n",
              "    </tr>\n",
              "    <tr>\n",
              "      <th>5</th>\n",
              "      <td>0.486707</td>\n",
              "      <td>0.236884</td>\n",
              "      <td>0.754190</td>\n",
              "      <td>0.753623</td>\n",
              "      <td>0.658228</td>\n",
              "      <td>0.702703</td>\n",
              "      <td>0.245810</td>\n",
              "    </tr>\n",
              "    <tr>\n",
              "      <th>6</th>\n",
              "      <td>0.495855</td>\n",
              "      <td>0.245872</td>\n",
              "      <td>0.748603</td>\n",
              "      <td>0.628205</td>\n",
              "      <td>0.753846</td>\n",
              "      <td>0.685315</td>\n",
              "      <td>0.251397</td>\n",
              "    </tr>\n",
              "    <tr>\n",
              "      <th>7</th>\n",
              "      <td>0.480901</td>\n",
              "      <td>0.231266</td>\n",
              "      <td>0.770950</td>\n",
              "      <td>0.676923</td>\n",
              "      <td>0.687500</td>\n",
              "      <td>0.682171</td>\n",
              "      <td>0.229050</td>\n",
              "    </tr>\n",
              "    <tr>\n",
              "      <th>8</th>\n",
              "      <td>0.499055</td>\n",
              "      <td>0.249056</td>\n",
              "      <td>0.832402</td>\n",
              "      <td>0.761905</td>\n",
              "      <td>0.864865</td>\n",
              "      <td>0.810127</td>\n",
              "      <td>0.167598</td>\n",
              "    </tr>\n",
              "    <tr>\n",
              "      <th>9</th>\n",
              "      <td>0.494279</td>\n",
              "      <td>0.244312</td>\n",
              "      <td>0.748603</td>\n",
              "      <td>0.697368</td>\n",
              "      <td>0.706667</td>\n",
              "      <td>0.701987</td>\n",
              "      <td>0.251397</td>\n",
              "    </tr>\n",
              "    <tr>\n",
              "      <th>10</th>\n",
              "      <td>0.486707</td>\n",
              "      <td>0.236884</td>\n",
              "      <td>0.748603</td>\n",
              "      <td>0.666667</td>\n",
              "      <td>0.676471</td>\n",
              "      <td>0.671533</td>\n",
              "      <td>0.251397</td>\n",
              "    </tr>\n",
              "    <tr>\n",
              "      <th>11</th>\n",
              "      <td>0.486707</td>\n",
              "      <td>0.236884</td>\n",
              "      <td>0.787709</td>\n",
              "      <td>0.652174</td>\n",
              "      <td>0.762712</td>\n",
              "      <td>0.703125</td>\n",
              "      <td>0.212291</td>\n",
              "    </tr>\n",
              "    <tr>\n",
              "      <th>12</th>\n",
              "      <td>0.495099</td>\n",
              "      <td>0.245123</td>\n",
              "      <td>0.770950</td>\n",
              "      <td>0.714286</td>\n",
              "      <td>0.743243</td>\n",
              "      <td>0.728477</td>\n",
              "      <td>0.229050</td>\n",
              "    </tr>\n",
              "    <tr>\n",
              "      <th>13</th>\n",
              "      <td>0.487988</td>\n",
              "      <td>0.238132</td>\n",
              "      <td>0.770950</td>\n",
              "      <td>0.628571</td>\n",
              "      <td>0.745763</td>\n",
              "      <td>0.682171</td>\n",
              "      <td>0.229050</td>\n",
              "    </tr>\n",
              "    <tr>\n",
              "      <th>14</th>\n",
              "      <td>0.490349</td>\n",
              "      <td>0.240442</td>\n",
              "      <td>0.737430</td>\n",
              "      <td>0.625000</td>\n",
              "      <td>0.692308</td>\n",
              "      <td>0.656934</td>\n",
              "      <td>0.262570</td>\n",
              "    </tr>\n",
              "    <tr>\n",
              "      <th>15</th>\n",
              "      <td>0.475812</td>\n",
              "      <td>0.226397</td>\n",
              "      <td>0.798883</td>\n",
              "      <td>0.790323</td>\n",
              "      <td>0.680556</td>\n",
              "      <td>0.731343</td>\n",
              "      <td>0.201117</td>\n",
              "    </tr>\n",
              "    <tr>\n",
              "      <th>16</th>\n",
              "      <td>0.487988</td>\n",
              "      <td>0.238132</td>\n",
              "      <td>0.798883</td>\n",
              "      <td>0.757143</td>\n",
              "      <td>0.736111</td>\n",
              "      <td>0.746479</td>\n",
              "      <td>0.201117</td>\n",
              "    </tr>\n",
              "    <tr>\n",
              "      <th>17</th>\n",
              "      <td>0.486707</td>\n",
              "      <td>0.236884</td>\n",
              "      <td>0.765363</td>\n",
              "      <td>0.623188</td>\n",
              "      <td>0.728814</td>\n",
              "      <td>0.671875</td>\n",
              "      <td>0.234637</td>\n",
              "    </tr>\n",
              "    <tr>\n",
              "      <th>18</th>\n",
              "      <td>0.495099</td>\n",
              "      <td>0.245123</td>\n",
              "      <td>0.748603</td>\n",
              "      <td>0.714286</td>\n",
              "      <td>0.705128</td>\n",
              "      <td>0.709677</td>\n",
              "      <td>0.251397</td>\n",
              "    </tr>\n",
              "    <tr>\n",
              "      <th>19</th>\n",
              "      <td>0.483942</td>\n",
              "      <td>0.234200</td>\n",
              "      <td>0.804469</td>\n",
              "      <td>0.761194</td>\n",
              "      <td>0.728571</td>\n",
              "      <td>0.744526</td>\n",
              "      <td>0.195531</td>\n",
              "    </tr>\n",
              "    <tr>\n",
              "      <th>mean</th>\n",
              "      <td>0.487030</td>\n",
              "      <td>0.237246</td>\n",
              "      <td>0.775978</td>\n",
              "      <td>0.696967</td>\n",
              "      <td>0.722023</td>\n",
              "      <td>0.707789</td>\n",
              "      <td>0.224022</td>\n",
              "    </tr>\n",
              "    <tr>\n",
              "      <th>max</th>\n",
              "      <td>0.499055</td>\n",
              "      <td>0.249056</td>\n",
              "      <td>0.837989</td>\n",
              "      <td>0.790323</td>\n",
              "      <td>0.864865</td>\n",
              "      <td>0.810127</td>\n",
              "      <td>0.262570</td>\n",
              "    </tr>\n",
              "    <tr>\n",
              "      <th>min</th>\n",
              "      <td>0.473972</td>\n",
              "      <td>0.224650</td>\n",
              "      <td>0.737430</td>\n",
              "      <td>0.623188</td>\n",
              "      <td>0.658228</td>\n",
              "      <td>0.656934</td>\n",
              "      <td>0.162011</td>\n",
              "    </tr>\n",
              "  </tbody>\n",
              "</table>\n",
              "</div>"
            ],
            "text/plain": [
              "           std       var  accuracy  ...  recall_score  f1_score     error\n",
              "0     0.473972  0.224650  0.782123  ...      0.696429  0.666667  0.217877\n",
              "1     0.487988  0.238132  0.754190  ...      0.680556  0.690141  0.245810\n",
              "2     0.490349  0.240442  0.793296  ...      0.753623  0.737589  0.206704\n",
              "3     0.475812  0.226397  0.765363  ...      0.661290  0.661290  0.234637\n",
              "4     0.479276  0.229706  0.837989  ...      0.777778  0.771654  0.162011\n",
              "5     0.486707  0.236884  0.754190  ...      0.658228  0.702703  0.245810\n",
              "6     0.495855  0.245872  0.748603  ...      0.753846  0.685315  0.251397\n",
              "7     0.480901  0.231266  0.770950  ...      0.687500  0.682171  0.229050\n",
              "8     0.499055  0.249056  0.832402  ...      0.864865  0.810127  0.167598\n",
              "9     0.494279  0.244312  0.748603  ...      0.706667  0.701987  0.251397\n",
              "10    0.486707  0.236884  0.748603  ...      0.676471  0.671533  0.251397\n",
              "11    0.486707  0.236884  0.787709  ...      0.762712  0.703125  0.212291\n",
              "12    0.495099  0.245123  0.770950  ...      0.743243  0.728477  0.229050\n",
              "13    0.487988  0.238132  0.770950  ...      0.745763  0.682171  0.229050\n",
              "14    0.490349  0.240442  0.737430  ...      0.692308  0.656934  0.262570\n",
              "15    0.475812  0.226397  0.798883  ...      0.680556  0.731343  0.201117\n",
              "16    0.487988  0.238132  0.798883  ...      0.736111  0.746479  0.201117\n",
              "17    0.486707  0.236884  0.765363  ...      0.728814  0.671875  0.234637\n",
              "18    0.495099  0.245123  0.748603  ...      0.705128  0.709677  0.251397\n",
              "19    0.483942  0.234200  0.804469  ...      0.728571  0.744526  0.195531\n",
              "mean  0.487030  0.237246  0.775978  ...      0.722023  0.707789  0.224022\n",
              "max   0.499055  0.249056  0.837989  ...      0.864865  0.810127  0.262570\n",
              "min   0.473972  0.224650  0.737430  ...      0.658228  0.656934  0.162011\n",
              "\n",
              "[23 rows x 7 columns]"
            ]
          },
          "metadata": {},
          "execution_count": 32
        }
      ]
    },
    {
      "cell_type": "code",
      "metadata": {
        "colab": {
          "base_uri": "https://localhost:8080/",
          "height": 283
        },
        "id": "DCHY19MhQMpw",
        "outputId": "4eadbbcb-834d-4756-b66e-be2268632311"
      },
      "source": [
        "analyze_df[['accuracy','precision_score','recall_score','f1_score',]].boxplot()"
      ],
      "execution_count": 33,
      "outputs": [
        {
          "output_type": "execute_result",
          "data": {
            "text/plain": [
              "<matplotlib.axes._subplots.AxesSubplot at 0x7f40925f5b10>"
            ]
          },
          "metadata": {},
          "execution_count": 33
        },
        {
          "output_type": "display_data",
          "data": {
            "image/png": "[encoded data removed]",
            "text/plain": [
              "<Figure size 432x288 with 1 Axes>"
            ]
          },
          "metadata": {
            "needs_background": "light"
          }
        }
      ]
    },
    {
      "cell_type": "code",
      "metadata": {
        "colab": {
          "base_uri": "https://localhost:8080/",
          "height": 282
        },
        "id": "enRRCzLTislb",
        "outputId": "199c997a-fedc-4c07-9145-5c57faac4bfa"
      },
      "source": [
        "plt.subplot(1, 2, 1)\n",
        "y_test.value_counts().plot(kind='barh')\n",
        "plt.subplot(1, 2, 2)\n",
        "y_pred_df=pd.DataFrame(y_pred)\n",
        "y_pred_df.value_counts().plot(kind='barh')"
      ],
      "execution_count": 34,
      "outputs": [
        {
          "output_type": "execute_result",
          "data": {
            "text/plain": [
              "<matplotlib.axes._subplots.AxesSubplot at 0x7f4099193590>"
            ]
          },
          "metadata": {},
          "execution_count": 34
        },
        {
          "output_type": "display_data",
          "data": {
            "image/png": "[encoded data removed]",
            "text/plain": [
              "<Figure size 432x288 with 2 Axes>"
            ]
          },
          "metadata": {
            "needs_background": "light"
          }
        }
      ]
    },
    {
      "cell_type": "code",
      "metadata": {
        "id": "sJJuMvsilRVe"
      },
      "source": [
        ""
      ],
      "execution_count": 34,
      "outputs": []
    }
  ]
}